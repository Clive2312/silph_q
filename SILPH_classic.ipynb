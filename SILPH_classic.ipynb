{
 "cells": [
  {
   "cell_type": "markdown",
   "id": "30729f0f-d039-4b23-bc28-baae18fcf868",
   "metadata": {},
   "source": [
    "# Final project for Introduction to Quantum Computing (18-819F) Classical Solver (Cplex)\n",
    "\n",
    "Project Description:\n",
    "- Scalable and Accurate Generation of Hybrid MPC Protocols with Quantum Integer Programming"
   ]
  },
  {
   "cell_type": "markdown",
   "id": "6d6c33ea-f84c-4eae-97b4-2ddb1231f89d",
   "metadata": {},
   "source": [
    "### Deps"
   ]
  },
  {
   "cell_type": "code",
   "execution_count": null,
   "id": "c2269299-06e2-4215-9809-fc4688a962bf",
   "metadata": {},
   "outputs": [],
   "source": [
    "#install Cplex\n",
    "!pip install 'qiskit-optimization[cplex]' --quiet"
   ]
  },
  {
   "cell_type": "code",
   "execution_count": null,
   "id": "a1a0b2ea-7af2-41c7-8b6a-5884091633bc",
   "metadata": {},
   "outputs": [],
   "source": [
    "import numpy as np\n",
    "import copy\n",
    "\n",
    "# Problem modelling imports\n",
    "from docplex.mp.model import Model\n",
    "from docplex.mp.linear import LinearExpr\n",
    "# Qiskit imports\n",
    "from qiskit import BasicAer\n",
    "from qiskit.utils import QuantumInstance\n",
    "from qiskit.algorithms import QAOA, NumPyMinimumEigensolver\n",
    "from qiskit.utils.algorithm_globals import algorithm_globals\n",
    "from qiskit_optimization.algorithms import MinimumEigenOptimizer, CplexOptimizer\n",
    "from qiskit_optimization import QuadraticProgram\n",
    "from qiskit_optimization.problems.variable import VarType\n",
    "from qiskit_optimization.converters.quadratic_program_to_qubo import QuadraticProgramToQubo\n",
    "from qiskit_optimization.translators import from_docplex_mp"
   ]
  },
  {
   "cell_type": "markdown",
   "id": "0413ebef-ad81-4532-b7c1-876bba91fc05",
   "metadata": {},
   "source": [
    "### SILPH Reader"
   ]
  },
  {
   "cell_type": "code",
   "execution_count": null,
   "id": "607bcfbc-1eb4-419f-ba2a-93c5426e7f89",
   "metadata": {},
   "outputs": [],
   "source": [
    "def parse_problem(fname):\n",
    "    mdl = Model(fname)\n",
    "    \n",
    "    # Term Variable Name to Variable \n",
    "    # {name: (variable, cost)}\n",
    "    term_var = {}\n",
    "    # Conv Variable Name to Variable \n",
    "    # {name: (variable, cost)}\n",
    "    conv_var = {}\n",
    "    for line in open(fname):\n",
    "        codes = line.split()\n",
    "        if codes[0] == \"VT\":\n",
    "            # term var\n",
    "            if not codes[1] in term_var:\n",
    "                v = mdl.binary_var(codes[1])\n",
    "                term_var[codes[1]] = (v, float(codes[2]))\n",
    "        elif codes[0] == \"VC\":\n",
    "            # conversion var\n",
    "            if not codes[1] in conv_var:\n",
    "                v = mdl.binary_var(codes[1])\n",
    "                conv_var[codes[1]] = (v, float(codes[2]))\n",
    "            \n",
    "        elif codes[0] == \"CA\":\n",
    "            # assignment constraint\n",
    "            if len(codes) == 2:\n",
    "                # CA term_var\n",
    "                (v1, _) = term_var[codes[1]]\n",
    "                mdl.add_constraint(v1 >= 1)\n",
    "            elif len(codes) == 3:\n",
    "                # CA term_var term_var\n",
    "                (v1, _) = term_var[codes[1]]\n",
    "                (v2, _) = term_var[codes[2]]\n",
    "                mdl.add_constraint(v1 + v2 >= 1)\n",
    "            elif len(codes) == 4:\n",
    "                # CA term_var term_var term_var\n",
    "                (v1, _) = term_var[codes[1]]\n",
    "                (v2, _) = term_var[codes[2]]\n",
    "                (v3, _) = term_var[codes[3]]\n",
    "                mdl.add_constraint(v1 + v2 + v3 >= 1)\n",
    "            \n",
    "        elif codes[0] == \"CC\":\n",
    "            # conversion constraint\n",
    "            (v1, _) = conv_var[codes[1]]\n",
    "            (v2, _) = term_var[codes[2]]\n",
    "            (v3, _) = term_var[codes[3]]\n",
    "            mdl.add_constraint(v1 >= v2 + v3 - 1)\n",
    "            \n",
    "    # Create objective funciton\n",
    "    exp = mdl.linear_expr()\n",
    "    for (v, cost) in term_var.values():\n",
    "        exp.add(v*cost)\n",
    "    for (v, cost) in conv_var.values():\n",
    "        exp.add(v*cost)\n",
    "    mdl.minimize(exp)\n",
    "    return mdl"
   ]
  },
  {
   "cell_type": "markdown",
   "id": "6a6af184-3de6-4a7e-a329-e3c5292720be",
   "metadata": {},
   "source": [
    "### QUBO converter"
   ]
  },
  {
   "cell_type": "code",
   "execution_count": null,
   "id": "b23d8fce-38c2-47cc-b513-9a3166f0e386",
   "metadata": {},
   "outputs": [],
   "source": [
    "from qiskit_optimization.converters import InequalityToEquality\n",
    "from qiskit_optimization.converters import IntegerToBinary\n",
    "from qiskit_optimization.converters import LinearEqualityToPenalty"
   ]
  },
  {
   "cell_type": "code",
   "execution_count": null,
   "id": "3ae1169f-4581-439b-8601-729ae72e6353",
   "metadata": {},
   "outputs": [],
   "source": [
    "ineq2eq = InequalityToEquality()\n",
    "int2bin = IntegerToBinary()\n",
    "lineq2penalty = LinearEqualityToPenalty()\n",
    "def to_qubo(qp):\n",
    "    qp_eq = ineq2eq.convert(qp)\n",
    "    qp_eq_bin = int2bin.convert(qp_eq)\n",
    "    qubo = lineq2penalty.convert(qp_eq_bin)\n",
    "    return qubo\n",
    "    "
   ]
  },
  {
   "cell_type": "markdown",
   "id": "8ca1764f-032a-4789-95ff-8a4c23e80946",
   "metadata": {},
   "source": [
    "### Cplex Solver"
   ]
  },
  {
   "cell_type": "code",
   "execution_count": null,
   "id": "908137b8-9a5b-4236-ab12-6145322b487f",
   "metadata": {},
   "outputs": [],
   "source": [
    "import time\n",
    "\n",
    "def solve(qubo):\n",
    "    t0 = time.time()\n",
    "    result = CplexOptimizer().solve(qubo)\n",
    "    t1 = time.time()\n",
    "    print(\"timing:\", t1-t0)\n",
    "    print(result.prettyprint())"
   ]
  },
  {
   "cell_type": "code",
   "execution_count": null,
   "id": "bb41fbd5-0f83-49bb-9ded-b1df3798a51a",
   "metadata": {},
   "outputs": [],
   "source": [
    "mdl = parse_problem(\"./toy_1.txt\")\n",
    "# print(mdl.export_as_lp_string())\n",
    "qp = from_docplex_mp(mdl)\n",
    "qubo = to_qubo(qp)\n",
    "solve(qubo)"
   ]
  },
  {
   "cell_type": "code",
   "execution_count": null,
   "id": "2ba9166a-71bd-4020-9b80-e76500982086",
   "metadata": {},
   "outputs": [],
   "source": [
    "mdl = parse_problem(\"./toy_2.txt\")\n",
    "# print(mdl.export_as_lp_string())\n",
    "qp = from_docplex_mp(mdl)\n",
    "qubo = to_qubo(qp)\n",
    "solve(qubo)"
   ]
  },
  {
   "cell_type": "code",
   "execution_count": null,
   "id": "818d3f31-5fb1-4f71-9295-ef83ffe4f634",
   "metadata": {},
   "outputs": [],
   "source": [
    "mdl = parse_problem(\"./biomatch_4.txt\")\n",
    "# print(mdl.export_as_lp_string())\n",
    "qp = from_docplex_mp(mdl)\n",
    "qubo = to_qubo(qp)\n",
    "solve(qubo)"
   ]
  },
  {
   "cell_type": "code",
   "execution_count": null,
   "id": "867d4422-45dc-4212-b1dd-432c221ebb42",
   "metadata": {},
   "outputs": [],
   "source": []
  }
 ],
 "metadata": {
  "kernelspec": {
   "display_name": "Python 3.9.12 64-bit",
   "language": "python",
   "name": "python3"
  },
  "language_info": {
   "codemirror_mode": {
    "name": "ipython",
    "version": 3
   },
   "file_extension": ".py",
   "mimetype": "text/x-python",
   "name": "python",
   "nbconvert_exporter": "python",
   "pygments_lexer": "ipython3",
   "version": "3.9.12"
  },
  "vscode": {
   "interpreter": {
    "hash": "b0fa6594d8f4cbf19f97940f81e996739fb7646882a419484c72d19e05852a7e"
   }
  },
  "widgets": {
   "application/vnd.jupyter.widget-state+json": {
    "state": {},
    "version_major": 2,
    "version_minor": 0
   }
  }
 },
 "nbformat": 4,
 "nbformat_minor": 5
}
