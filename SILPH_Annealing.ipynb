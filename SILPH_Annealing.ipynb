{
 "cells": [
  {
   "cell_type": "markdown",
   "id": "da3aea49-66f9-4f5f-9bc7-1075ba1457b4",
   "metadata": {},
   "source": [
    "# Final project for Introduction to Quantum Computing (18-819F) Quantum Solver\n",
    "\n",
    "Project Description:\n",
    "- Scalable and Accurate Generation of Hybrid MPC Protocols with Quantum Integer Programming"
   ]
  },
  {
   "cell_type": "markdown",
   "id": "08d0c90f-4703-4cf3-8d92-228c76573ac6",
   "metadata": {},
   "source": [
    "## Preparation"
   ]
  },
  {
   "cell_type": "markdown",
   "id": "a9b38f46-c07c-4272-af95-e4e10aff9e21",
   "metadata": {},
   "source": [
    "### Bootstrap"
   ]
  },
  {
   "cell_type": "code",
   "execution_count": null,
   "id": "cb2ff500-ef3d-4562-a1c2-e4acccbef8ba",
   "metadata": {},
   "outputs": [],
   "source": [
    "import numpy as np\n",
    "import time\n",
    "# Importing standard Qiskit libraries\n",
    "from qiskit import QuantumCircuit, transpile, Aer, IBMQ\n",
    "from qiskit.tools.jupyter import *\n",
    "from qiskit.visualization import *\n",
    "from ibm_quantum_widgets import *\n",
    "from qiskit.providers.aer import QasmSimulator\n",
    "from qiskit_ibm_runtime import QiskitRuntimeService\n",
    "from qiskit_optimization import QuadraticProgram\n",
    "from qiskit_optimization.translators import from_docplex_mp\n",
    "\n",
    "# Initialize the account first.\n",
    "service = QiskitRuntimeService()\n",
    "\n",
    "# Loading your IBM Quantum account(s)\n",
    "provider = IBMQ.load_account()"
   ]
  },
  {
   "cell_type": "markdown",
   "id": "45b2a529-8533-4778-94d4-f2908f0c395f",
   "metadata": {},
   "source": [
    "### Available Backends"
   ]
  },
  {
   "cell_type": "code",
   "execution_count": null,
   "id": "3747b845-2d54-4899-b658-95649bc7290e",
   "metadata": {},
   "outputs": [],
   "source": [
    "service.backends()"
   ]
  },
  {
   "cell_type": "markdown",
   "id": "215f8996-6813-46a6-ae5f-1955048cecf0",
   "metadata": {},
   "source": [
    "### SILPH Reader"
   ]
  },
  {
   "cell_type": "code",
   "execution_count": null,
   "id": "eca74d8f-da3b-4771-909e-2ce7a594e217",
   "metadata": {},
   "outputs": [],
   "source": [
    "from docplex.mp.model import Model\n",
    "from docplex.mp.linear import LinearExpr\n",
    "\n",
    "def parse_problem(fname):\n",
    "    mdl = Model(fname)\n",
    "    \n",
    "    # Term Variable Name to Variable \n",
    "    # {name: (variable, cost)}\n",
    "    term_var = {}\n",
    "    # Conv Variable Name to Variable \n",
    "    # {name: (variable, cost)}\n",
    "    conv_var = {}\n",
    "    for line in open(fname):\n",
    "        codes = line.split()\n",
    "        if codes[0] == \"VT\":\n",
    "            # term var\n",
    "            if not codes[1] in term_var:\n",
    "                v = mdl.binary_var(codes[1])\n",
    "                term_var[codes[1]] = (v, float(codes[2]))\n",
    "        elif codes[0] == \"VC\":\n",
    "            # conversion var\n",
    "            if not codes[1] in conv_var:\n",
    "                v = mdl.binary_var(codes[1])\n",
    "                conv_var[codes[1]] = (v, float(codes[2]))\n",
    "            \n",
    "        elif codes[0] == \"CA\":\n",
    "            # assignment constraint\n",
    "            if len(codes) == 2:\n",
    "                # CA term_var\n",
    "                (v1, _) = term_var[codes[1]]\n",
    "                mdl.add_constraint(v1 >= 1)\n",
    "            elif len(codes) == 3:\n",
    "                # CA term_var term_var\n",
    "                (v1, _) = term_var[codes[1]]\n",
    "                (v2, _) = term_var[codes[2]]\n",
    "                mdl.add_constraint(v1 + v2 >= 1)\n",
    "            elif len(codes) == 4:\n",
    "                # CA term_var term_var term_var\n",
    "                (v1, _) = term_var[codes[1]]\n",
    "                (v2, _) = term_var[codes[2]]\n",
    "                (v3, _) = term_var[codes[3]]\n",
    "                mdl.add_constraint(v1 + v2 + v3 >= 1)\n",
    "            \n",
    "        elif codes[0] == \"CC\":\n",
    "            # conversion constraint\n",
    "            (v1, _) = conv_var[codes[1]]\n",
    "            (v2, _) = term_var[codes[2]]\n",
    "            (v3, _) = term_var[codes[3]]\n",
    "            mdl.add_constraint(v1 >= v2 + v3 - 1)\n",
    "            \n",
    "    # Create objective funciton\n",
    "    exp = mdl.linear_expr()\n",
    "    for (v, cost) in term_var.values():\n",
    "        exp.add(v*cost)\n",
    "    for (v, cost) in conv_var.values():\n",
    "        exp.add(v*cost)\n",
    "    mdl.minimize(exp)\n",
    "    return mdl\n",
    "        "
   ]
  },
  {
   "cell_type": "markdown",
   "id": "03a82639-21b0-4e32-8c7f-18ea6ed83002",
   "metadata": {},
   "source": [
    "### QUBO converter"
   ]
  },
  {
   "cell_type": "code",
   "execution_count": null,
   "id": "5150dc08-5295-4380-8eb2-853493307e6b",
   "metadata": {},
   "outputs": [],
   "source": [
    "from qiskit_optimization.converters import InequalityToEquality\n",
    "from qiskit_optimization.converters import IntegerToBinary\n",
    "from qiskit_optimization.converters import LinearEqualityToPenalty"
   ]
  },
  {
   "cell_type": "code",
   "execution_count": null,
   "id": "ef3fa279-e44f-4e17-8852-601220afea32",
   "metadata": {},
   "outputs": [],
   "source": [
    "ineq2eq = InequalityToEquality()\n",
    "int2bin = IntegerToBinary()\n",
    "lineq2penalty = LinearEqualityToPenalty()\n",
    "def to_qubo(qp):\n",
    "    qp_eq = ineq2eq.convert(qp)\n",
    "    qp_eq_bin = int2bin.convert(qp_eq)\n",
    "    qubo = lineq2penalty.convert(qp_eq_bin)\n",
    "    return qubo\n",
    "    "
   ]
  },
  {
   "cell_type": "markdown",
   "id": "e65af873-1d0a-487d-aa59-7923ff4decf3",
   "metadata": {},
   "source": [
    "#### Convert to Ising"
   ]
  },
  {
   "cell_type": "markdown",
   "id": "95d366ce-cd52-4b51-ab25-e6bbd21071c0",
   "metadata": {},
   "source": [
    "To Ising"
   ]
  },
  {
   "cell_type": "code",
   "execution_count": null,
   "id": "93ce0362-23e4-4366-bdc8-fc2147ab0d76",
   "metadata": {},
   "outputs": [],
   "source": [
    "# qubitOp, offset = qubo.to_ising()\n",
    "# print(\"Offset:\", offset)\n",
    "# print(\"Ising Hamiltonian:\")\n",
    "# print(str(qubitOp))"
   ]
  },
  {
   "cell_type": "markdown",
   "id": "62d342f5-b1f8-459a-8105-006d5551008a",
   "metadata": {},
   "source": [
    "### Test case"
   ]
  },
  {
   "cell_type": "code",
   "execution_count": null,
   "id": "ca6cabf2-094f-4bb3-ac60-a77335edf521",
   "metadata": {},
   "outputs": [],
   "source": [
    "# mdl = parse_problem(\"./toy_1.txt\")\n",
    "mdl = parse_problem(\"./toy_2.txt\")\n",
    "# mdl = parse_problem(\"./biomatch_4.txt\")\n",
    "# mdl = parse_problem(\"./biomatch_16.txt\")\n",
    "# mdl = parse_problem(\"./kmeans.txt\")\n",
    "\n",
    "# print(mdl.export_as_lp_string())\n",
    "qp = from_docplex_mp(mdl)\n",
    "qubo = to_qubo(qp)"
   ]
  },
  {
   "cell_type": "markdown",
   "id": "4622d037-7c14-4a0c-85a6-c3d7e5db6d9d",
   "metadata": {},
   "source": [
    "## Annealing"
   ]
  },
  {
   "cell_type": "code",
   "execution_count": null,
   "id": "b4bbf255-550f-4c00-8493-2e51339f5803",
   "metadata": {},
   "outputs": [],
   "source": [
    "!pip install dwave-ocean-sdk --quiet"
   ]
  },
  {
   "cell_type": "code",
   "execution_count": null,
   "id": "4fff791a-b09f-4751-bf84-bff7e9c6a67f",
   "metadata": {},
   "outputs": [],
   "source": [
    "import dimod\n",
    "import neal\n",
    "\n",
    "import matplotlib.pyplot as plt\n",
    "import numpy as np\n",
    "from scipy.special import gamma\n",
    "import math\n",
    "from collections import Counter\n",
    "import pandas as pd\n",
    "from itertools import chain\n",
    "import time\n",
    "import networkx as nx"
   ]
  },
  {
   "cell_type": "code",
   "execution_count": null,
   "id": "207bbefa-f41d-44ac-9fcd-52dc8b262409",
   "metadata": {},
   "outputs": [],
   "source": [
    "# qiskit qubo to dwave bqm\n",
    "linear = qubo.objective.linear.to_dict()\n",
    "quadratic = qubo.objective.quadratic.to_dict()\n",
    "constant = qubo.objective.constant\n",
    "model = dimod.BinaryQuadraticModel(linear, quadratic, constant, dimod.Vartype.BINARY)"
   ]
  },
  {
   "cell_type": "code",
   "execution_count": null,
   "id": "3118b9b5-ca23-4a3b-b90c-d62fff838ef7",
   "metadata": {},
   "outputs": [],
   "source": [
    "print(model)"
   ]
  },
  {
   "cell_type": "markdown",
   "id": "fee6f367-0727-4591-b8fc-dc2ab6e52303",
   "metadata": {},
   "source": [
    "### Graphing"
   ]
  },
  {
   "cell_type": "code",
   "execution_count": null,
   "id": "3ef79c70-2a88-4538-aefb-e372a8a1d31e",
   "metadata": {},
   "outputs": [],
   "source": [
    "import seaborn as sns\n",
    "import matplotlib.pyplot as plt\n",
    "def plot_enumerate(results, fig_name, title=None):\n",
    "\n",
    "    plt.figure()\n",
    "\n",
    "    energies = [datum.energy for datum in results.data(\n",
    "        ['energy'], sorted_by=None)]\n",
    "    \n",
    "    if results.vartype == 'Vartype.BINARY':\n",
    "        samples = [''.join(c for c in str(datum.sample.values()).strip(\n",
    "            ', ') if c.isdigit()) for datum in results.data(['sample'], sorted_by=None)]\n",
    "        plt.xlabel('bitstring for solution')\n",
    "    else:\n",
    "        samples = np.arange(len(energies))\n",
    "        plt.xlabel('solution')\n",
    "\n",
    "    plt.bar(samples,energies, color=(0.2, 0.4, 0.6, 0.6))\n",
    "    plt.xticks(rotation=90)\n",
    "    plt.ylabel('Energy')\n",
    "    plt.title(str(title))\n",
    "    print(\"minimum energy:\", min(energies))\n",
    "    plt.savefig(fig_name)\n",
    "\n",
    "\n",
    "def plot_energies(results, title=None):\n",
    "    energies = results.data_vectors['energy']\n",
    "    occurrences = results.data_vectors['num_occurrences']\n",
    "    counts = Counter(energies)\n",
    "    total = sum(occurrences)\n",
    "    counts = {}\n",
    "    for index, energy in enumerate(energies):\n",
    "        if energy in counts.keys():\n",
    "            counts[energy] += occurrences[index]\n",
    "        else:\n",
    "            counts[energy] = occurrences[index]\n",
    "    for key in counts:\n",
    "        counts[key] /= total\n",
    "    df = pd.DataFrame.from_dict(counts, orient='index').sort_index()\n",
    "    df.plot(kind='bar', legend=None)\n",
    "\n",
    "    plt.xlabel('Energy')\n",
    "    plt.ylabel('Probabilities')\n",
    "    plt.title(str(title))\n",
    "    plt.show()\n",
    "    print(\"minimum energy:\", min(energies))\n",
    "\n",
    "def parse_energy(results, name):\n",
    "    energies = results.data_vectors['energy']\n",
    "    occurrences = results.data_vectors['num_occurrences']\n",
    "    counts = Counter(energies)\n",
    "    total = sum(occurrences)\n",
    "    counts = {}\n",
    "    for index, energy in enumerate(energies):\n",
    "        if energy in counts.keys():\n",
    "            counts[energy] = [energy, counts[energy][1] + occurrences[index], name]\n",
    "        else:\n",
    "            counts[energy] = [energy, occurrences[index], name]\n",
    "    return counts\n",
    "\n",
    "def plot_density(result1, result2):\n",
    "    counts_1 = parse_energy(result1, \"Simulated Annealing\")\n",
    "    counts_2 = parse_energy(result2, \"Quantum Annealing\")\n",
    "    plt.figure(figsize=[8, 5])\n",
    "    df_1 = pd.DataFrame.from_dict(counts_1, orient='index').sort_index()\n",
    "    df_2 = pd.DataFrame.from_dict(counts_2, orient='index').sort_index()\n",
    "    df = pd.concat([df_1, df_2])\n",
    "    sns.set(style=\"whitegrid\", color_codes=True)\n",
    "    ax = sns.stripplot(\n",
    "        data=df,\n",
    "        x=2, y=0, size=2, jitter=0.2\n",
    "    )\n",
    "    ax.set(xlabel='Methods', ylabel='Energy')\n",
    "    plt.savefig(\"./graph_quantum_annealing_1000_toy_2.pdf\")\n",
    "\n",
    "    \n",
    "    "
   ]
  },
  {
   "cell_type": "markdown",
   "id": "a81efe63-2dd8-4ba8-b332-b445b37c30ca",
   "metadata": {},
   "source": [
    "### Simulated Annealing"
   ]
  },
  {
   "cell_type": "code",
   "execution_count": null,
   "id": "d2a1451c-6069-4b52-ba23-a556283b4f0e",
   "metadata": {},
   "outputs": [],
   "source": [
    "t0 = time.time()\n",
    "\n",
    "sweeps_at_beta = 1\n",
    "simAnnSampler = neal.SimulatedAnnealingSampler()\n",
    "simAnnSamples = simAnnSampler.sample(\n",
    "    model, \n",
    "    # beta_schedule_type=\"custom\", \n",
    "    # # initial_states = np.zeros(len(model.variables), dtype=np.int8), \n",
    "    # num_sweeps_per_beta = 10,\n",
    "    # beta_schedule = np.linspace(0.01, 10, num=1000),\n",
    "    # num_sweeps=10000,\n",
    "    # initial_states_generator=\"tile\",\n",
    "    # seed=12345,\n",
    "    num_reads=1000)\n",
    "t1 = time.time()\n",
    "print(\"timing:\", t1-t0)"
   ]
  },
  {
   "cell_type": "code",
   "execution_count": null,
   "id": "a4653391-d897-4ffa-a55d-4884db57e29f",
   "metadata": {},
   "outputs": [],
   "source": [
    "plot_enumerate(simAnnSamples, \"./graph_enumerate_simulated_annealing_1000_toy_2.pdf\", title='Simulated annealing in default parameters')"
   ]
  },
  {
   "cell_type": "code",
   "execution_count": null,
   "id": "00a41f06-24f2-4550-b0b1-e35ae3c937c5",
   "metadata": {},
   "outputs": [],
   "source": [
    "print(simAnnSamples.aggregate().lowest())"
   ]
  },
  {
   "cell_type": "markdown",
   "id": "128c5e67-f917-48de-8881-845fd1d9bca3",
   "metadata": {},
   "source": [
    "### Quantum Annealing"
   ]
  },
  {
   "cell_type": "code",
   "execution_count": null,
   "id": "19844108-1baf-4505-bee6-dc02de4e45e4",
   "metadata": {},
   "outputs": [],
   "source": [
    "!echo -e \"\\n\" | dwave setup -a"
   ]
  },
  {
   "cell_type": "code",
   "execution_count": null,
   "id": "53651131-346a-4f4b-95c4-d487abd9a79a",
   "metadata": {},
   "outputs": [],
   "source": [
    "import dwave_networkx as dnx\n",
    "from dwave.system import (DWaveSampler, EmbeddingComposite,\n",
    "                          FixedEmbeddingComposite)\n",
    "from pprint import pprint"
   ]
  },
  {
   "cell_type": "code",
   "execution_count": null,
   "id": "467594c7-816c-415e-a378-a0fd2e2972ce",
   "metadata": {},
   "outputs": [],
   "source": [
    "!dwave solvers  --list --all"
   ]
  },
  {
   "cell_type": "code",
   "execution_count": null,
   "id": "7b486dc6-1fb1-4163-bf30-027f25dd0f4d",
   "metadata": {},
   "outputs": [],
   "source": [
    "!dwave ping"
   ]
  },
  {
   "cell_type": "code",
   "execution_count": null,
   "id": "7ea3cef3-748f-4420-a0a5-e3f316404d2e",
   "metadata": {},
   "outputs": [],
   "source": [
    "qpu = DWaveSampler()\n",
    "qpu_edges = qpu.edgelist\n",
    "qpu_nodes = qpu.nodelist\n",
    "# pprint(dir(qpu))\n",
    "print(qpu.solver.id)\n",
    "X = dnx.pegasus_graph(16, node_list=qpu_nodes, edge_list=qpu_edges)\n",
    "dnx.draw_pegasus(X, node_size=1)\n",
    "print('Number of qubits=', len(qpu_nodes))\n",
    "print('Number of couplers=', len(qpu_edges))"
   ]
  },
  {
   "cell_type": "code",
   "execution_count": null,
   "id": "62313cf8-2ed9-48dd-b1a1-da1198e35b34",
   "metadata": {},
   "outputs": [],
   "source": [
    "DWavesampler = EmbeddingComposite(DWaveSampler())\n",
    "t0 = time.time()\n",
    "DWaveSamples = DWavesampler.sample(bqm=model, num_reads=1000, \n",
    "                                   return_embedding=True, \n",
    "                                  #  chain_strength=chain_strength, \n",
    "                                   # annealing_time=100\n",
    "                                   )\n",
    "t1 = time.time()\n",
    "print(\"timing:\", t1-t0)"
   ]
  },
  {
   "cell_type": "code",
   "execution_count": null,
   "id": "7b4fe67f-0aaa-40a8-8c31-f8d2d7be735e",
   "metadata": {},
   "outputs": [],
   "source": [
    "# print(DWaveSamples.info)"
   ]
  },
  {
   "cell_type": "code",
   "execution_count": null,
   "id": "951de9e0-61a7-48b5-99b3-c822b58b4e3f",
   "metadata": {},
   "outputs": [],
   "source": [
    "plot_enumerate(DWaveSamples, \"./graph_enumerate_quantum_annealing_1000_toy_2.pdf\", title='Quantum annealing in default parameters')"
   ]
  },
  {
   "cell_type": "code",
   "execution_count": null,
   "id": "182ac26a-931a-48f1-8c15-875694ffc367",
   "metadata": {},
   "outputs": [],
   "source": [
    "print(DWaveSamples.aggregate().lowest())"
   ]
  },
  {
   "cell_type": "markdown",
   "id": "f9858c3d-0396-440a-a91a-8ec4edf7439f",
   "metadata": {},
   "source": [
    "#### Comparison"
   ]
  },
  {
   "cell_type": "code",
   "execution_count": null,
   "id": "b9910c80-b372-4c97-be69-e5fbfb65b4f6",
   "metadata": {},
   "outputs": [],
   "source": [
    "plot_density(simAnnSamples, DWaveSamples)"
   ]
  },
  {
   "cell_type": "code",
   "execution_count": null,
   "id": "c6b68f87-bfd6-4d88-8420-f106eaa032f8",
   "metadata": {},
   "outputs": [],
   "source": [
    "chain_strength = 1000"
   ]
  },
  {
   "cell_type": "code",
   "execution_count": null,
   "id": "110008e5-1d5e-4d1c-ab5e-2aa52182bc7c",
   "metadata": {},
   "outputs": [],
   "source": [
    "t0 = time.time()\n",
    "DWaveSamples = DWavesampler.sample(bqm=model, num_reads=1000, \n",
    "                                   annealing_time=1\n",
    "                                   )\n",
    "t1 = time.time()\n",
    "print(\"timing:\", t1-t0)"
   ]
  },
  {
   "cell_type": "code",
   "execution_count": null,
   "id": "2753d5dd-4dfc-484f-8ff9-2628bd46a7ef",
   "metadata": {},
   "outputs": [],
   "source": [
    "t0 = time.time()\n",
    "DWaveSamples2 = DWavesampler.sample(bqm=model, num_reads=1000, \n",
    "                                   annealing_time=10\n",
    "                                   )\n",
    "t1 = time.time()\n",
    "print(\"timing:\", t1-t0)"
   ]
  },
  {
   "cell_type": "code",
   "execution_count": null,
   "id": "a741ddfb-69bb-40d3-b1e6-62a064560844",
   "metadata": {},
   "outputs": [],
   "source": [
    "t0 = time.time()\n",
    "DWaveSamples3 = DWavesampler.sample(bqm=model, num_reads=1000, \n",
    "                                   annealing_time=50\n",
    "                                   )\n",
    "t1 = time.time()\n",
    "print(\"timing:\", t1-t0)"
   ]
  },
  {
   "cell_type": "code",
   "execution_count": null,
   "id": "f73b722f-a010-460e-a9b7-a851cbba012e",
   "metadata": {},
   "outputs": [],
   "source": [
    "t0 = time.time()\n",
    "DWaveSamples4 = DWavesampler.sample(bqm=model, num_reads=1000, \n",
    "                                   annealing_time=100\n",
    "                                   )\n",
    "t1 = time.time()\n",
    "print(\"timing:\", t1-t0)"
   ]
  },
  {
   "cell_type": "code",
   "execution_count": null,
   "id": "397aa4f2-044a-4fd7-8414-9cfbbc578875",
   "metadata": {},
   "outputs": [],
   "source": [
    "t0 = time.time()\n",
    "DWaveSamples5 = DWavesampler.sample(bqm=model, num_reads=1000, \n",
    "                                   annealing_time=500\n",
    "                                   )\n",
    "t1 = time.time()\n",
    "print(\"timing:\", t1-t0)"
   ]
  },
  {
   "cell_type": "code",
   "execution_count": null,
   "id": "aa8ac7ec-c402-45cf-ae78-916314f0318c",
   "metadata": {},
   "outputs": [],
   "source": [
    "t0 = time.time()\n",
    "DWaveSamples6 = DWavesampler.sample(bqm=model, num_reads=1000, \n",
    "                                   annealing_time=750\n",
    "                                   )\n",
    "t1 = time.time()\n",
    "print(\"timing:\", t1-t0)"
   ]
  },
  {
   "cell_type": "code",
   "execution_count": null,
   "id": "e49f11dc-a131-47d2-be08-5a0adf2ad83f",
   "metadata": {},
   "outputs": [],
   "source": [
    "counts_1 = parse_energy(DWaveSamples, \"1\")\n",
    "counts_2 = parse_energy(DWaveSamples2, \"10\")\n",
    "counts_3 = parse_energy(DWaveSamples3, \"50\")\n",
    "counts_4 = parse_energy(DWaveSamples4, \"100\")\n",
    "counts_5 = parse_energy(DWaveSamples5, \"500\")\n",
    "counts_6 = parse_energy(DWaveSamples6, \"750\")\n",
    "plt.figure(figsize=[8, 5])\n",
    "df_1 = pd.DataFrame.from_dict(counts_1, orient='index').sort_index()\n",
    "df_2 = pd.DataFrame.from_dict(counts_2, orient='index').sort_index()\n",
    "df_3 = pd.DataFrame.from_dict(counts_3, orient='index').sort_index()\n",
    "df_4 = pd.DataFrame.from_dict(counts_4, orient='index').sort_index()\n",
    "df_5 = pd.DataFrame.from_dict(counts_5, orient='index').sort_index()\n",
    "df_6 = pd.DataFrame.from_dict(counts_6, orient='index').sort_index()\n",
    "df = pd.concat([df_1, df_2, df_3, df_4, df_5, df_6])\n",
    "sns.set(style=\"whitegrid\", color_codes=True)\n",
    "ax = sns.stripplot(\n",
    "    data=df,\n",
    "    x=2, y=0, size=2, jitter=0.2\n",
    ")\n",
    "ax.set(xlabel='Anneal time(num_reads = 1000)', ylabel='Energy')\n",
    "plt.savefig(\"./graph_quantum_annealing_opt_anneal_time.pdf\")\n"
   ]
  },
  {
   "cell_type": "code",
   "execution_count": null,
   "id": "a8740507-d914-44ac-9d06-9032e5d30edd",
   "metadata": {},
   "outputs": [],
   "source": [
    "print(DWaveSamples.aggregate().lowest())\n",
    "print(DWaveSamples2.aggregate().lowest())\n",
    "print(DWaveSamples3.aggregate().lowest())\n",
    "print(DWaveSamples4.aggregate().lowest())\n",
    "print(DWaveSamples5.aggregate().lowest())\n",
    "print(DWaveSamples6.aggregate().lowest())"
   ]
  },
  {
   "cell_type": "code",
   "execution_count": null,
   "id": "d9ac2f18-d874-4d60-80fb-6ce94039e72f",
   "metadata": {},
   "outputs": [],
   "source": [
    "from hybrid.reference.kerberos import KerberosSampler"
   ]
  },
  {
   "cell_type": "code",
   "execution_count": null,
   "id": "9675fa91-cdcc-4b9a-83e3-42ac58904f97",
   "metadata": {},
   "outputs": [],
   "source": [
    "# mdl = parse_problem(\"./toy_1.txt\")\n",
    "# mdl = parse_problem(\"./toy_2.txt\")\n",
    "# mdl = parse_problem(\"./biomatch_4.txt\")\n",
    "mdl = parse_problem(\"./biomatch_16.txt\")\n",
    "# mdl = parse_problem(\"./kmeans.txt\")\n",
    "\n",
    "# print(mdl.export_as_lp_string())\n",
    "qp = from_docplex_mp(mdl)\n",
    "qubo = to_qubo(qp)\n",
    "# qiskit qubo to dwave bqm\n",
    "linear = qubo.objective.linear.to_dict()\n",
    "quadratic = qubo.objective.quadratic.to_dict()\n",
    "constant = qubo.objective.constant\n",
    "model = dimod.BinaryQuadraticModel(linear, quadratic, constant, dimod.Vartype.BINARY)"
   ]
  },
  {
   "cell_type": "code",
   "execution_count": null,
   "id": "a2d1f4b7-9a13-419f-9153-6e518fe0c08d",
   "metadata": {},
   "outputs": [],
   "source": [
    "DWavesampler = EmbeddingComposite(DWaveSampler())\n",
    "t0 = time.time()\n",
    "solution = KerberosSampler().sample(model, max_iter=100, convergence=5, qpu_sampler=DWavesampler)\n",
    "t1 = time.time()\n",
    "print(\"timing:\", t1-t0)\n",
    "print(\"result:\", solution)"
   ]
  },
  {
   "cell_type": "markdown",
   "id": "b687c2ea-d14a-467e-9d2e-49b6899e8587",
   "metadata": {},
   "source": [
    "#### HybridSolver"
   ]
  },
  {
   "cell_type": "code",
   "execution_count": null,
   "id": "260f1b43-0d1b-4560-b478-8fae4a763259",
   "metadata": {},
   "outputs": [],
   "source": [
    "from dwave.system import LeapHybridSampler"
   ]
  },
  {
   "cell_type": "code",
   "execution_count": null,
   "id": "9772687e-3d8e-445e-88bc-afa85241b7fd",
   "metadata": {},
   "outputs": [],
   "source": [
    "sampler = LeapHybridSampler()  \n",
    "t0 = time.time()\n",
    "sampleset = sampler.sample(model) \n",
    "t1 = time.time()\n",
    "print(\"timing:\", t1-t0)\n",
    "print(\"result:\", sampleset)"
   ]
  },
  {
   "cell_type": "code",
   "execution_count": null,
   "id": "6466f45b-76a1-454e-b1ff-854b38d3efc6",
   "metadata": {},
   "outputs": [],
   "source": []
  }
 ],
 "metadata": {
  "kernelspec": {
   "display_name": "Python 3.9.12 64-bit",
   "language": "python",
   "name": "python3"
  },
  "language_info": {
   "codemirror_mode": {
    "name": "ipython",
    "version": 3
   },
   "file_extension": ".py",
   "mimetype": "text/x-python",
   "name": "python",
   "nbconvert_exporter": "python",
   "pygments_lexer": "ipython3",
   "version": "3.9.12"
  },
  "vscode": {
   "interpreter": {
    "hash": "b0fa6594d8f4cbf19f97940f81e996739fb7646882a419484c72d19e05852a7e"
   }
  },
  "widgets": {
   "application/vnd.jupyter.widget-state+json": {
    "state": {
     "04779f2f95a243bd8d3c06dd033edc5a": {
      "model_module": "@jupyter-widgets/controls",
      "model_module_version": "1.5.0",
      "model_name": "DescriptionStyleModel",
      "state": {
       "description_width": ""
      }
     },
     "158ec877b3de4798914ab67ea173c8c7": {
      "model_module": "@jupyter-widgets/base",
      "model_module_version": "1.2.0",
      "model_name": "LayoutModel",
      "state": {
       "width": "95px"
      }
     },
     "15b3198afdfe447190a106454674fc04": {
      "model_module": "@jupyter-widgets/controls",
      "model_module_version": "1.5.0",
      "model_name": "DescriptionStyleModel",
      "state": {
       "description_width": ""
      }
     },
     "166d96fd015348848e8ea74dbd50b883": {
      "model_module": "@jupyter-widgets/controls",
      "model_module_version": "1.5.0",
      "model_name": "HTMLModel",
      "state": {
       "layout": "IPY_MODEL_158ec877b3de4798914ab67ea173c8c7",
       "style": "IPY_MODEL_5b30431720cf49ebac3887eb837b6815",
       "value": "<h5>Status</h5>"
      }
     },
     "27b999447cd3414fa6454ed227a1daca": {
      "model_module": "@jupyter-widgets/base",
      "model_module_version": "1.2.0",
      "model_name": "LayoutModel",
      "state": {
       "grid_area": "right",
       "padding": "0px 0px 0px 0px",
       "width": "70px"
      }
     },
     "35b0c8b9c5bf4107bf0b47d77c8b4692": {
      "model_module": "@jupyter-widgets/controls",
      "model_module_version": "1.5.0",
      "model_name": "HTMLModel",
      "state": {
       "layout": "IPY_MODEL_3d2b726d9a3c4de28630dcbf05c9d0e1",
       "style": "IPY_MODEL_562bc46d118c41f3b6daa764ccf7d59f",
       "value": "<h5>Backend</h5>"
      }
     },
     "3d2b726d9a3c4de28630dcbf05c9d0e1": {
      "model_module": "@jupyter-widgets/base",
      "model_module_version": "1.2.0",
      "model_name": "LayoutModel",
      "state": {
       "width": "145px"
      }
     },
     "5198c26741ce4daa8934235681e86824": {
      "model_module": "@jupyter-widgets/controls",
      "model_module_version": "1.5.0",
      "model_name": "DescriptionStyleModel",
      "state": {
       "description_width": ""
      }
     },
     "52690783d5be47748f5bebf43a115766": {
      "model_module": "@jupyter-widgets/controls",
      "model_module_version": "1.5.0",
      "model_name": "ButtonModel",
      "state": {
       "button_style": "primary",
       "description": "Clear",
       "layout": "IPY_MODEL_27b999447cd3414fa6454ed227a1daca",
       "style": "IPY_MODEL_56ca68fe1e1147e4b78e080fe8b2d44b"
      }
     },
     "562bc46d118c41f3b6daa764ccf7d59f": {
      "model_module": "@jupyter-widgets/controls",
      "model_module_version": "1.5.0",
      "model_name": "DescriptionStyleModel",
      "state": {
       "description_width": ""
      }
     },
     "56ca68fe1e1147e4b78e080fe8b2d44b": {
      "model_module": "@jupyter-widgets/controls",
      "model_module_version": "1.5.0",
      "model_name": "ButtonStyleModel",
      "state": {}
     },
     "5b30431720cf49ebac3887eb837b6815": {
      "model_module": "@jupyter-widgets/controls",
      "model_module_version": "1.5.0",
      "model_name": "DescriptionStyleModel",
      "state": {
       "description_width": ""
      }
     },
     "5bb15656f7624fe2a6dc590f4a534354": {
      "model_module": "@jupyter-widgets/base",
      "model_module_version": "1.2.0",
      "model_name": "LayoutModel",
      "state": {}
     },
     "73d39364aa8f4415a0bc642d8ba2a884": {
      "model_module": "@jupyter-widgets/base",
      "model_module_version": "1.2.0",
      "model_name": "LayoutModel",
      "state": {
       "width": "190px"
      }
     },
     "787ea303e7c9403c9e6484b6420f70c9": {
      "model_module": "@jupyter-widgets/controls",
      "model_module_version": "1.5.0",
      "model_name": "HTMLModel",
      "state": {
       "layout": "IPY_MODEL_b1b58ebb020b46d89a0cb3eaa9abae7f",
       "style": "IPY_MODEL_15b3198afdfe447190a106454674fc04",
       "value": "<p style='font-family: IBM Plex Sans, Arial, Helvetica, sans-serif; font-size: 20px; font-weight: medium;'>Circuit Properties</p>"
      }
     },
     "87a348747bf3479090cea3f185ca1805": {
      "model_module": "@jupyter-widgets/controls",
      "model_module_version": "1.5.0",
      "model_name": "GridBoxModel",
      "state": {
       "children": [
        "IPY_MODEL_52690783d5be47748f5bebf43a115766"
       ],
       "layout": "IPY_MODEL_8fe99b7fa3a540cc8fdb505304b09669"
      }
     },
     "885c4a8d5b8d47aaa61a4a0e0a882352": {
      "model_module": "@jupyter-widgets/base",
      "model_module_version": "1.2.0",
      "model_name": "LayoutModel",
      "state": {
       "margin": "0px 0px 0px 37px",
       "width": "600px"
      }
     },
     "8a797d91978f45c8a2800989f11ce6d8": {
      "model_module": "@jupyter-widgets/controls",
      "model_module_version": "1.5.0",
      "model_name": "DescriptionStyleModel",
      "state": {
       "description_width": ""
      }
     },
     "8e8bc63db24f42baa41281ffca6d1f82": {
      "model_module": "@jupyter-widgets/controls",
      "model_module_version": "1.5.0",
      "model_name": "HTMLModel",
      "state": {
       "layout": "IPY_MODEL_73d39364aa8f4415a0bc642d8ba2a884",
       "style": "IPY_MODEL_8a797d91978f45c8a2800989f11ce6d8",
       "value": "<h5>Job ID</h5>"
      }
     },
     "8fe99b7fa3a540cc8fdb505304b09669": {
      "model_module": "@jupyter-widgets/base",
      "model_module_version": "1.2.0",
      "model_name": "LayoutModel",
      "state": {
       "grid_template_areas": "\n                                       \". . . . right \"\n                                        ",
       "grid_template_columns": "20% 20% 20% 20% 20%",
       "width": "100%"
      }
     },
     "b1b58ebb020b46d89a0cb3eaa9abae7f": {
      "model_module": "@jupyter-widgets/base",
      "model_module_version": "1.2.0",
      "model_name": "LayoutModel",
      "state": {
       "margin": "0px 0px 10px 0px"
      }
     },
     "b69f2e17c0e34817bd6bffd6c27d6a05": {
      "model_module": "@jupyter-widgets/controls",
      "model_module_version": "1.5.0",
      "model_name": "HTMLModel",
      "state": {
       "layout": "IPY_MODEL_5bb15656f7624fe2a6dc590f4a534354",
       "style": "IPY_MODEL_5198c26741ce4daa8934235681e86824",
       "value": "<h5>Message</h5>"
      }
     },
     "b6e34402bd004eb1bbfaf35bdbfe2516": {
      "model_module": "@jupyter-widgets/controls",
      "model_module_version": "1.5.0",
      "model_name": "HTMLModel",
      "state": {
       "layout": "IPY_MODEL_cc339387da0449058c3ab05d1d26b955",
       "style": "IPY_MODEL_04779f2f95a243bd8d3c06dd033edc5a",
       "value": "<h5>Queue</h5>"
      }
     },
     "cc339387da0449058c3ab05d1d26b955": {
      "model_module": "@jupyter-widgets/base",
      "model_module_version": "1.2.0",
      "model_name": "LayoutModel",
      "state": {
       "width": "70px"
      }
     },
     "ce786b7c74d64e71ac2b9b4a25f8e0b2": {
      "model_module": "@jupyter-widgets/controls",
      "model_module_version": "1.5.0",
      "model_name": "HBoxModel",
      "state": {
       "children": [
        "IPY_MODEL_8e8bc63db24f42baa41281ffca6d1f82",
        "IPY_MODEL_35b0c8b9c5bf4107bf0b47d77c8b4692",
        "IPY_MODEL_166d96fd015348848e8ea74dbd50b883",
        "IPY_MODEL_b6e34402bd004eb1bbfaf35bdbfe2516",
        "IPY_MODEL_b69f2e17c0e34817bd6bffd6c27d6a05"
       ],
       "layout": "IPY_MODEL_885c4a8d5b8d47aaa61a4a0e0a882352"
      }
     }
    },
    "version_major": 2,
    "version_minor": 0
   }
  }
 },
 "nbformat": 4,
 "nbformat_minor": 5
}
